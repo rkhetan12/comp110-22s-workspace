{
 "cells": [
  {
   "cell_type": "markdown",
   "metadata": {},
   "source": [
    "# Analysis for Continuous Improvement\n",
    "\n",
    "Author Name: Ria Khetan\n",
    "\n",
    "9-digit PID: 730476155\n",
    "\n",
    "Continuous Improvement embraces a belief there is _always room to make things better_. It is a mindset and process we value and practice in this course. In this assignment, you are able to practice continuous improvement and contribute to the design ideas of the course.\n",
    "\n",
    "## Brainstorming Ideas\n",
    "\n",
    "Reflect on your personal experiences and observations in COMP110 and **brainstorm modifications to the course that _create value_ beyond its current design**. When brainstorming, try not to be critical of the ideas you come up with regarding scale, stakeholders impacted, or for any other reasons. In the markdown cell below, brainstorm 3 to 5 ideas you think would create value for you.\n",
    "\n",
    "Each brainstormed idea should state a. the suggested change or addition, b. what the expected value created, and c. which specific stakeholders would benefit.  If helpful, expand on the following template \"The course should (state idea here) because it will (state value created here) for (insert stakeholders here).\"\n",
    "\n",
    "Example A: \"The course should use only examples from psychology experiments because it will be more relevant for students who are psychology majors.\"\n",
    "\n",
    "Example B: \"The course should not have post-lesson questions because they are not useful for most students in the class.\""
   ]
  },
  {
   "cell_type": "markdown",
   "metadata": {},
   "source": [
    "### Part 1. Creative Ideation\n",
    "\n",
    "1. The course should switch to completley synchronous because it will increase participation and end results for students. Also for students who have never taken the course before would gain more confidence in themselves in earning a good result at the end of the course.\n",
    "2. The course should have the option of attending office hours online because it will increase participation and willingness to attend for students.\n",
    "3. The course should have required office hours for students to meet with their course instructors for the teaching team to better understand what the students need. \n",
    "4. The course should encourage prior experienced students in programming to seek out ways to get involved in the UNC Community to improve their coding skills for themselves. \n",
    "5. The course should enforce that asyncrounous activities are completed before COMP 110 ends because it will increase attentiveness for students. "
   ]
  },
  {
   "cell_type": "markdown",
   "metadata": {},
   "source": [
    "## Connecting with Available Data\n",
    "\n",
    "The data you have available for this analysis is limited to the anonymized course survey you and your peers filled out a few weeks ago. The data is found in the `survey.csv` file in this exercise directory. Each row represents an individual survey response. Each column has a description which can be found on the project write-up here: <https://22s.comp110.com/exercises/ex08.html>\n",
    "\n",
    "Review the list of available data and identify which one of your ideas _does not_, or is _least likely to_, have relevant data to support the analysis of your idea to create value. In the box below, identify which of your ideas lacks data and suggest how we might be able to collect this data in the future. One aspect of _continuous improvement_ is trying to avoid \"tunnel vision\" where possible improvements are not considered because there is no data available to analyze it. Identifying new data sources can unlock improvements!"
   ]
  },
  {
   "cell_type": "markdown",
   "metadata": {},
   "source": [
    "### Part 2. Identifying Missing Data\n",
    "\n",
    "1. Idea without sufficient data to analyze: The course should have the option of attending office hours online because it will increase participation and willingness to attend for students.\n",
    "\n",
    "2. Suggestion for how to collect data to support this idea in the future: An idea to collect data to support for this research is asking students whether they prefer in person office hours or online office hours, or whether they prefer a combination?"
   ]
  },
  {
   "cell_type": "markdown",
   "metadata": {},
   "source": [
    "## Choosing an Idea to Analyze\n",
    "\n",
    "Consider those of your ideas which _do_ seem likely to have relevant data to analyze. If none of your ideas do, spend a few minutes and brainstorm another idea or two with the added connection of data available on hand and add those ideas to your brainstormed ideas list.\n",
    "\n",
    "Select the one idea which you believe is _most valuable_ to analyze relative to the others and has data to support the analysis of. In the markdown cell for Part 3 below, identify the idea you are exploring and articulate why you believe it is most valuable (e.g. widest impact, biggest opportunity for improvement, simplest change for significant improvement, and so on)."
   ]
  },
  {
   "cell_type": "markdown",
   "metadata": {},
   "source": [
    "### Part 3. Choosing Your Analysis\n",
    "\n",
    "1. Idea to analyze with available data: The course should switch to completley synchronous because it will increase participation and end results for students. Also for students who have never taken the course before would gain more confidence in themselves in earning a good result at the end of the course.\n",
    "\n",
    "2. This idea is more valuable than the others brainstormed because: this is an issue that affects our learning today. Having part of the course thought as asynchronous allows for some students to skip lectures and not fully engross the material being learned. Having a live synchronous going on will allow students to be more attentive, and will encorage them to participate more since they will be surrounded in an environment which is doing that. \n"
   ]
  },
  {
   "cell_type": "markdown",
   "metadata": {},
   "source": [
    "## Your Analysis\n",
    "\n",
    "Before you begin analysis, a reminder that we do not expect the data to support everyone's ideas and you can complete this exercise for full credit even if the data does not clearly support your suggestion or even completely refutes it. What we are looking for is a logical attempt to explore the data using the techniques you have learned up until now in a way that _either_ supports, refutes, or does not have a clear result and then to reflect on your findings after the analysis.\n",
    "\n",
    "Using the utility functions you created for the previous exercise, you will continue with your analysis in the following part. Before you begin, refer to the rubric on the technical expectations of this section in the exercise write-up.\n",
    "\n",
    "In this section, you are expected to interleave code and markdown cells such that for each step of your analysis you are starting with an English description of what you are planning to do next in a markdown cell, followed by a Python cell that performs that step of the analysis."
   ]
  },
  {
   "cell_type": "markdown",
   "metadata": {},
   "source": [
    "### Part 4. Analysis\n",
    "\n",
    "We begin by changing some settings in the notebook to automatically reload changes to imported files."
   ]
  },
  {
   "cell_type": "markdown",
   "metadata": {},
   "source": [
    "The first step is letting autoreload contining to run."
   ]
  },
  {
   "cell_type": "code",
   "execution_count": 84,
   "metadata": {},
   "outputs": [],
   "source": [
    "%reload_ext autoreload\n",
    "%autoreload 2"
   ]
  },
  {
   "cell_type": "markdown",
   "metadata": {},
   "source": [
    "We continue by importing the helper functions from `data_utils`."
   ]
  },
  {
   "cell_type": "code",
   "execution_count": 85,
   "metadata": {},
   "outputs": [],
   "source": [
    "# TODO: You complete the code blocks from here forward!\n",
    "\n",
    "from data_utils import read_csv_rows, head, columnar, select\n"
   ]
  },
  {
   "cell_type": "markdown",
   "metadata": {},
   "source": [
    "Next, ... (you take it from here and add additional code and markdown cells to read in the CSV file and process it as needed)"
   ]
  },
  {
   "cell_type": "code",
   "execution_count": 86,
   "metadata": {},
   "outputs": [],
   "source": [
    "SURVEY_DATA_CSV_FILE_PATH: str = \"../../data/survey.csv\""
   ]
  },
  {
   "cell_type": "markdown",
   "metadata": {},
   "source": [
    "# Using read-csv-rows function\n",
    "At first, I will be using the read_csv_rows imported function to identify all the different column topics that I have as well as their values. This will allow me to consider all the different data topics that I have available for me to work with. But next I will need to condense to just have the topics of data. "
   ]
  },
  {
   "cell_type": "code",
   "execution_count": 87,
   "metadata": {},
   "outputs": [],
   "source": [
    "from data_utils import read_csv_rows\n",
    "\n",
    "data_rows: list[dict[str, str]] = read_csv_rows(SURVEY_DATA_CSV_FILE_PATH)\n",
    "#print(data_rows)\n"
   ]
  },
  {
   "cell_type": "markdown",
   "metadata": {},
   "source": [
    "# Using head and columnar function\n",
    "Now, I want to turn all my data into a column oriented model to make it easier to read it. Also I am using the head function to cut my data into 10 rows."
   ]
  },
  {
   "cell_type": "code",
   "execution_count": 88,
   "metadata": {},
   "outputs": [
    {
     "name": "stdout",
     "output_type": "stream",
     "text": [
      "{'row': ['0', '1', '2', '3', '4', '5', '6', '7', '8', '9', '10', '11', '12', '13', '14', '15', '16', '17', '18', '19', '20', '21', '22', '23', '24', '25', '26', '27', '28', '29', '30', '31', '32', '33', '34', '35', '36', '37', '38', '39', '40', '41', '42', '43', '44', '45', '46', '47', '48', '49'], 'year': ['22', '25', '25', '24', '25', '25', '25', '24', '25', '22', '24', '24', '23', '24', '24', '24', '23', '23', '25', '25', '22', '23', '24', '23', '23', '25', '25', '24', '25', '24', '24', '23', '24', '25', '23', '23', '25', '25', '25', '25', '25', '25', '22', '23', '24', '24', '25', '25', '25', '25'], 'unc_status': ['Returning UNC Student', 'Returning UNC Student', 'Incoming First-year Student', 'Returning UNC Student', 'Incoming First-year Student', 'Incoming First-year Student', 'Incoming First-year Student', 'Returning UNC Student', 'Incoming First-year Student', 'Returning UNC Student', 'Returning UNC Student', 'Returning UNC Student', 'Returning UNC Student', 'Returning UNC Student', 'Returning UNC Student', 'Returning UNC Student', 'Incoming Transfer Student', 'Returning UNC Student', 'Incoming First-year Student', 'Incoming First-year Student', 'Returning UNC Student', 'Returning UNC Student', 'Returning UNC Student', 'Returning UNC Student', 'Returning UNC Student', 'first year-student', 'Incoming First-year Student', 'Returning UNC Student', 'Incoming First-year Student', 'Returning UNC Student', 'Returning UNC Student', 'Incoming Transfer Student', 'Returning UNC Student', 'Incoming First-year Student', 'junior/senior', 'Incoming Transfer Student', 'Incoming First-year Student', 'Incoming First-year Student', 'Returning UNC Student', 'Incoming First-year Student', 'Incoming First-year Student', 'Incoming First-year Student', 'Returning UNC Student', 'Returning UNC Student', 'Returning UNC Student', 'Returning UNC Student', 'Returning UNC Student', 'Returning UNC Student', 'Returning UNC Student', 'Incoming First-year Student'], 'comp_major': ['No', 'No', 'Yes - BA', 'Yes - BS', 'Yes - BA', 'Yes - BS', 'Yes - BA', 'Yes - BA', 'Yes - BS', 'No', 'Yes - BS', 'Yes - BA', 'No', 'No', 'No', 'No', 'No', 'No', 'No', 'Yes - BS', 'No', 'No', 'No', 'No', 'No', 'Yes - BS', 'No', 'No', 'Yes - BS', 'No', 'No', 'No', 'No', 'No', 'Yes - Minor', 'No', 'Yes - BA', 'Yes - BA', 'Yes - BA', 'Yes - BS', 'Yes - BS', 'Yes - BS', 'No', 'No', 'No', 'No', 'Yes - BS', 'Yes - BA', 'No', 'Yes - BA'], 'primary_major': ['Mathematics', 'Mathematics', 'Computer Science', 'Computer Science', 'Computer Science', 'Computer Science', 'Computer Science', 'Neuroscience', 'Computer Science', 'Neuroscience', 'Computer Science', 'Psychology', 'Neuroscience', 'Environmental Science/Studies', 'Economics', 'Media and Journalism', 'Psychology', 'Mathematics', 'Environmental Science/Studies', 'Computer Science', 'Exercise and Sports Science', 'Biology', 'Psychology', 'Psychology', 'Environmental Science/Studies', 'Computer Science', 'Undecided', 'Environmental Science/Studies', 'Computer Science', 'Environmental Science/Studies', 'Asian Studies', 'Economics', 'Psychology', 'Information Science', 'Chemistry', 'Communication', 'Computer Science', 'Political Science', 'Computer Science', 'Computer Science', 'Computer Science', 'Computer Science', 'Exercise and Sports Science', 'Psychology', 'Information Science', 'Neuroscience', 'Computer Science', 'Computer Science', 'Statistics and Analytics', 'Business'], 'data_science': ['No', 'Yes', 'No', 'Maybe', 'No', 'Maybe', 'Yes', 'No', 'Yes', 'No', 'Maybe', 'Maybe', 'No', 'No', 'No', 'No', 'No', 'No', 'No', 'Maybe', 'No', 'No', 'No', 'No', 'Yes', 'Maybe', 'No', 'No', 'Maybe', 'No', 'Yes', 'Yes', 'No', 'Maybe', 'Yes', 'No', 'Maybe', 'No', 'No', 'No', 'Maybe', 'No', 'No', 'No', 'Yes', 'No', 'Maybe', 'Maybe', 'No', 'Yes'], 'prereqs': ['MATH 233, MATH 347, MATH 381', 'MATH 130, MATH 231, STOR 155', 'MATH 130, MATH 152, MATH 210', 'MATH 231, MATH 232, STOR 155', 'MATH 130', 'MATH 129P, MATH 231, MATH 232, STOR 155', 'MATH 129P, MATH 130', 'MATH 130, MATH 152, MATH 231, MATH 232, MATH 233, MATH 381, PSYC 210, STOR 155', 'STOR 120', 'MATH 130, MATH 231, MATH 232, PSYC 210', 'MATH 231, MATH 232', 'MATH 130', 'MATH 231, MATH 232, MATH 233, PSYC 210, STOR 155', 'MATH 129P, STOR 113, STOR 155', 'MATH 210, STOR 155', 'STOR 120', 'MATH 130, PSYC 210, STOR 155', 'MATH 130, MATH 231, MATH 232, MATH 233, MATH 347, MATH 381, STOR 155', 'MATH 130, MATH 231, STOR 155', 'MATH 231, MATH 232, MATH 233, MATH 381, STOR 155', 'STOR 113', 'MATH 130, STOR 155', 'MATH 129P, MATH 231, STOR 155', 'MATH 231, STOR 155', 'MATH 231, MATH 232', 'MATH 231, MATH 232, MATH 233, MATH 381', 'STOR 155', 'MATH 231, MATH 232', 'MATH 232', 'MATH 130, MATH 231, STOR 155', 'MATH 231', 'STOR 155', 'MATH 152, MATH 231, PSYC 210', 'MATH 129P, MATH 152, MATH 231, STOR 155', 'MATH 130, MATH 152, MATH 210, MATH 231, MATH 232, MATH 233, MATH 381, PSYC 210, PSYC 215', 'MATH 129P, MATH 130, MATH 231, MATH 232', 'MATH 231, MATH 232, STOR 155', 'MATH 130, STOR 155', 'MATH 129P, MATH 231', 'MATH 231', 'MATH 231', 'MATH 129P, MATH 130, MATH 152, MATH 210, MATH 231, MATH 232', 'MATH 129P, MATH 231, STOR 155', 'MATH 130, MATH 231, PSYC 210', 'MATH 129P, MATH 231', 'MATH 231, MATH 232, STOR 155', 'MATH 130', 'MATH 129P, MATH 231', 'STOR 155', 'MATH 129P, MATH 130, MATH 152, MATH 210, MATH 231, MATH 232, MATH 233, STOR 155'], 'prior_exp': ['7-12 months', 'None to less than one month!', 'None to less than one month!', '2-6 months', 'None to less than one month!', '2-6 months', '2-6 months', 'None to less than one month!', 'None to less than one month!', 'None to less than one month!', '2-6 months', '2-6 months', 'None to less than one month!', '2-6 months', 'None to less than one month!', '2-6 months', 'None to less than one month!', '1-2 years', 'None to less than one month!', 'None to less than one month!', 'None to less than one month!', 'None to less than one month!', '2-6 months', 'None to less than one month!', 'None to less than one month!', 'None to less than one month!', 'None to less than one month!', 'None to less than one month!', '7-12 months', 'None to less than one month!', 'None to less than one month!', 'None to less than one month!', 'None to less than one month!', 'None to less than one month!', 'None to less than one month!', 'None to less than one month!', '2-6 months', 'None to less than one month!', '2-6 months', 'None to less than one month!', '2-6 months', 'None to less than one month!', 'None to less than one month!', 'None to less than one month!', 'None to less than one month!', 'None to less than one month!', '2-6 months', '7-12 months', 'None to less than one month!', '1-2 years'], 'ap_principles': ['No', '', '', 'No', '', 'No', 'Yes', '', '', '', 'No', 'No', '', 'No', '', 'No', '', 'No', '', '', '', '', 'No', '', '', '', '', '', 'Yes', '', '', '', '', '', '', '', 'No', '', 'No', '', 'No', '', '', '', '', '', 'Yes', 'Yes', '', 'Yes'], 'ap_a': ['No', '', '', 'No', '', 'No', 'No', '', '', '', 'No', 'No', '', 'Yes', '', 'No', '', 'No', '', '', '', '', 'No', '', '', '', '', '', 'No', '', '', '', '', '', '', '', 'No', '', 'Yes', '', 'Yes', '', '', '', '', '', 'No', 'Yes', '', 'Yes'], 'other_comp': ['UNC', '', '', 'High school course (IB or other)', '', 'High school course (IB or other)', 'High school course (IB or other)', '', '', '', '', 'High school course (IB or other)', '', 'Only AP Comp Sci A', '', 'UNC', '', '', '', '', '', '', 'High school course (IB or other)', '', '', '', '', '', 'High school course (IB or other)', '', '', '', '', '', '', '', 'High school course (IB or other)', '', 'UNC', '', 'none', '', '', '', '', '', 'High school course (IB or other)', 'High school course (IB or other)', '', 'High school course (IB or other)'], 'prior_time': ['1 month or so', '', '', 'None to less than one month!', '', '1 month or so', '7-12 months', '', '', '', '2-6 months', '1 month or so', '', 'None to less than one month!', '', 'None to less than one month!', '', '1-2 years', '', '', '', '', 'None to less than one month!', '', '', '', '', '', 'None to less than one month!', '', '', '', '', '', '', '', 'None to less than one month!', '', '2-6 months', '', 'None to less than one month!', '', '', '', '', '', 'None to less than one month!', 'None to less than one month!', '', 'None to less than one month!'], 'languages': ['Python, R / Matlab / SAS', '', '', 'Python', '', 'Python, Java / C#, JavaScript / TypeScript, HTML / CSS', 'Python, Java / C#, JavaScript / TypeScript, HTML / CSS, Bash', '', '', '', 'Python, Java / C#', 'Python, JavaScript / TypeScript', '', 'Python, Java / C#', '', 'Python, HTML / CSS', '', 'Python, Java / C#, C / C++, JavaScript / TypeScript, R / Matlab / SAS, SQL', '', '', '', '', 'Java / C#', '', '', '', '', '', 'Python, JavaScript / TypeScript, HTML / CSS', '', '', '', '', '', '', '', 'Python, JavaScript / TypeScript, HTML / CSS', '', 'Python, Java / C#, C / C++, JavaScript / TypeScript', '', 'Python', '', '', '', '', '', 'Python, JavaScript / TypeScript', 'Python, Java / C#', '', 'Python, Java / C#, JavaScript / TypeScript, R / Matlab / SAS'], 'hours_online_social': ['3 to 5 hours', '0 to 2 hours', '3 to 5 hours', '3 to 5 hours', '0 to 2 hours', '10+ hours', '3 to 5 hours', '5 to 10 hours', '0 to 2 hours', '3 to 5 hours', '3 to 5 hours', '3 to 5 hours', '3 to 5 hours', '5 to 10 hours', '3 to 5 hours', '3 to 5 hours', '3 to 5 hours', '0 to 2 hours', '3 to 5 hours', '3 to 5 hours', '3 to 5 hours', '5 to 10 hours', '3 to 5 hours', '3 to 5 hours', '3 to 5 hours', '5 to 10 hours', '3 to 5 hours', '0 to 2 hours', '3 to 5 hours', '5 to 10 hours', '0 to 2 hours', '5 to 10 hours', '3 to 5 hours', '5 to 10 hours', '3 to 5 hours', '3 to 5 hours', '0 to 2 hours', '0 to 2 hours', '5 to 10 hours', '3 to 5 hours', '3 to 5 hours', '10+ hours', '10+ hours', '3 to 5 hours', '3 to 5 hours', '3 to 5 hours', '10+ hours', '3 to 5 hours', '3 to 5 hours', '5 to 10 hours'], 'hours_online_work': ['0 to 2 hours', '5 to 10 hours', '5 to 10 hours', '3 to 5 hours', '3 to 5 hours', '5 to 10 hours', '5 to 10 hours', '5 to 10 hours', '10+ hours', '5 to 10 hours', '5 to 10 hours', '3 to 5 hours', '3 to 5 hours', '3 to 5 hours', '3 to 5 hours', '5 to 10 hours', '5 to 10 hours', '3 to 5 hours', '3 to 5 hours', '3 to 5 hours', '3 to 5 hours', '3 to 5 hours', '3 to 5 hours', '3 to 5 hours', '3 to 5 hours', '5 to 10 hours', '3 to 5 hours', '3 to 5 hours', '3 to 5 hours', '5 to 10 hours', '5 to 10 hours', '5 to 10 hours', '5 to 10 hours', '3 to 5 hours', '3 to 5 hours', '3 to 5 hours', '3 to 5 hours', '5 to 10 hours', '3 to 5 hours', '3 to 5 hours', '3 to 5 hours', '3 to 5 hours', '5 to 10 hours', '3 to 5 hours', '5 to 10 hours', '5 to 10 hours', '3 to 5 hours', '3 to 5 hours', '5 to 10 hours', '5 to 10 hours'], 'lesson_time': ['6', '4', '3', '5', '7', '5', '5', '1', '1', '5', '2', '2', '3', '2', '2', '2', '1', '7', '4', '2', '6', '2', '5', '2', '7', '7', '6', '2', '4', '5', '5', '5', '6', '1', '4', '7', '5', '1', '2', '6', '5', '1', '1', '2', '5', '5', '2', '7', '3', '3'], 'sync_perf': ['2', '3', '3', '5', '3', '2', '3', '2', '5', '2', '4', '2', '5', '2', '6', '2', '4', '1', '5', '1', '1', '3', '1', '3', '7', '1', '4', '2', '1', '5', '2', '5', '3', '1', '4', '4', '7', '1', '7', '3', '1', '1', '2', '3', '3', '6', '1', '4', '2', '2'], 'all_sync': ['2', '3', '4', '4', '3', '2', '3', '2', '4', '2', '3', '2', '3', '2', '5', '1', '2', '1', '5', '1', '1', '2', '1', '4', '4', '1', '1', '2', '1', '5', '2', '5', '4', '1', '4', '4', '7', '1', '5', '3', '1', '1', '2', '2', '3', '6', '1', '3', '1', '2'], 'flipped_class': ['1', '1', '2', '3', '3', '2', '5', '1', '6', '1', '7', '3', '4', '4', '3', '6', '1', '1', '6', '1', '1', '2', '1', '3', '7', '1', '1', '2', '1', '3', '2', '5', '2', '1', '2', '4', '6', '1', '6', '1', '4', '3', '1', '3', '5', '5', '1', '2', '2', '2'], 'no_hybrid': ['2', '2', '1', '3', '2', '1', '3', '1', '5', '1', '2', '1', '1', '3', '5', '1', '1', '1', '3', '1', '1', '1', '1', '2', '6', '1', '1', '2', '4', '2', '3', '5', '2', '1', '2', '4', '1', '1', '1', '1', '2', '1', '1', '3', '1', '5', '2', '4', '1', '2'], 'own_notes': ['4', '6', '7', '6', '6', '5', '7', '7', '7', '7', '7', '6', '6', '7', '7', '7', '7', '3', '7', '7', '5', '7', '6', '7', '7', '7', '4', '7', '7', '6', '7', '5', '5', '7', '5', '6', '5', '4', '5', '5', '6', '5', '7', '7', '6', '6', '1', '6', '7', '6'], 'own_examples': ['4', '4', '7', '5', '3', '5', '7', '7', '7', '7', '7', '4', '4', '2', '3', '1', '1', '7', '4', '7', '5', '4', '7', '4', '7', '5', '3', '6', '4', '3', '6', '5', '5', '7', '5', '6', '2', '3', '7', '2', '5', '6', '5', '4', '5', '5', '6', '4', '5', '6'], 'oh_visits': ['0', '5', '2', '1', '5', '0', '2', '0', '1', '2', '0', '0', '1', '0', '2', '4', '5', '0', '3', '0', '3', '2', '1', '2', '3', '2', '3', '1', '0', '4', '1', '4', '4', '0', '0', '0', '0', '3', '0', '2', '0', '1', '0', '3', '1', '0', '0', '0', '2', '1'], 'ls_effective': ['7', '5', '5', '6', '6', '7', '7', '7', '7', '7', '7', '6', '4', '7', '6', '6', '7', '4', '6', '7', '5', '6', '7', '7', '1', '7', '7', '6', '7', '5', '6', '5', '6', '7', '7', '6', '6', '6', '7', '5', '7', '7', '7', '6', '5', '6', '6', '5', '3', '6'], 'lsqs_effective': ['3', '5', '6', '3', '6', '7', '5', '7', '7', '5', '7', '4', '3', '7', '5', '6', '7', '4', '6', '6', '3', '6', '7', '7', '1', '7', '7', '5', '3', '6', '5', '5', '5', '7', '3', '6', '5', '4', '7', '5', '5', '7', '7', '6', '4', '5', '7', '5', '4', '4'], 'programming_effective': ['7', '5', '7', '5', '6', '7', '7', '7', '7', '7', '7', '5', '6', '7', '7', '6', '7', '4', '6', '7', '7', '7', '7', '6', '5', '6', '7', '6', '7', '6', '6', '5', '2', '7', '7', '6', '7', '6', '7', '5', '6', '7', '7', '5', '5', '7', '7', '5', '6', '6'], 'qz_effective': ['5', '5', '7', '5', '6', '7', '5', '7', '7', '7', '7', '5', '5', '5', '7', '5', '7', '4', '6', '7', '6', '6', '6', '7', '1', '6', '4', '6', '4', '6', '3', '5', '5', '7', '4', '6', '7', '3', '6', '6', '6', '7', '7', '5', '3', '6', '6', '5', '3', '6'], 'oh_effective': ['', '7', '4', '5', '7', '', '4', '7', '7', '7', '7', '5', '', '', '6', '6', '7', '4', '6', '', '7', '5', '4', '7', '7', '3', '5', '7', '6', '7', '', '5', '5', '', '4', '4', '', '7', '7', '7', '', '7', '', '7', '6', '6', '', '5', '6', '4'], 'tutoring_effective': ['', '6', '', '4', '3', '', '4', '', '7', '', '7', '', '', '', '', '7', '', '4', '6', '', '7', '', '', '5', '7', '5', '7', '6', '6', '7', '', '5', '4', '', '5', '4', '', '7', '7', '', '', '4', '', '', '', '5', '', '5', '4', '4'], 'pace': ['1', '6', '6', '4', '6', '4', '4', '4', '5', '7', '5', '6', '5', '4', '4', '5', '6', '4', '5', '4', '6', '5', '5', '5', '7', '4', '5', '6', '4', '5', '6', '5', '6', '5', '5', '5', '6', '5', '4', '5', '4', '4', '4', '5', '6', '4', '4', '5', '6', '4'], 'difficulty': ['1', '6', '4', '4', '5', '3', '4', '4', '4', '4', '3', '4', '5', '3', '4', '7', '7', '4', '7', '2', '4', '5', '5', '6', '7', '5', '4', '4', '3', '5', '6', '5', '6', '4', '4', '4', '6', '5', '3', '5', '3', '5', '5', '7', '5', '3', '4', '4', '6', '3'], 'understanding': ['7', '3', '6', '5', '5', '6', '6', '7', '6', '6', '7', '5', '4', '7', '5', '3', '2', '6', '3', '6', '5', '5', '5', '5', '4', '4', '3', '6', '6', '5', '5', '6', '3', '5', '4', '5', '2', '5', '7', '5', '6', '6', '7', '3', '3', '6', '6', '5', '4', '5'], 'interesting': ['5', '4', '7', '6', '6', '7', '7', '7', '7', '7', '7', '6', '4', '7', '6', '7', '5', '7', '6', '7', '6', '6', '5', '6', '7', '6', '6', '6', '7', '5', '6', '5', '6', '7', '7', '5', '7', '7', '7', '7', '7', '7', '7', '4', '5', '7', '7', '6', '7', '5'], 'valuable': ['6', '6', '7', '6', '6', '7', '7', '7', '7', '7', '7', '6', '5', '7', '6', '7', '5', '7', '6', '7', '6', '7', '4', '7', '7', '7', '5', '6', '7', '6', '7', '5', '4', '7', '7', '6', '7', '6', '7', '7', '7', '7', '5', '6', '6', '6', '7', '6', '7', '6'], 'would_recommend': ['5', '4', '7', '6', '7', '7', '7', '7', '7', '7', '7', '6', '4', '7', '7', '6', '5', '7', '5', '7', '7', '7', '6', '6', '6', '7', '6', '6', '7', '5', '6', '5', '3', '7', '5', '6', '7', '7', '7', '7', '7', '7', '7', '6', '4', '7', '7', '5', '2', '7']}\n"
     ]
    }
   ],
   "source": [
    "from data_utils import head, columnar\n",
    "\n",
    "new_dict = columnar(data_rows)\n",
    "new_number_of_rows: dict[str, list[str]]= head(new_dict, 50)\n",
    "print(new_number_of_rows)"
   ]
  },
  {
   "cell_type": "markdown",
   "metadata": {},
   "source": [
    "# Using the select function\n",
    "I selected the two data points that I want to analyze using the select function."
   ]
  },
  {
   "cell_type": "code",
   "execution_count": 89,
   "metadata": {},
   "outputs": [
    {
     "name": "stdout",
     "output_type": "stream",
     "text": [
      "{'sync_perf': ['2', '3', '3', '5', '3', '2', '3', '2', '5', '2', '4', '2', '5', '2', '6', '2', '4', '1', '5', '1', '1', '3', '1', '3', '7', '1', '4', '2', '1', '5', '2', '5', '3', '1', '4', '4', '7', '1', '7', '3', '1', '1', '2', '3', '3', '6', '1', '4', '2', '2']}\n",
      "{'understanding': ['7', '3', '6', '5', '5', '6', '6', '7', '6', '6', '7', '5', '4', '7', '5', '3', '2', '6', '3', '6', '5', '5', '5', '5', '4', '4', '3', '6', '6', '5', '5', '6', '3', '5', '4', '5', '2', '5', '7', '5', '6', '6', '7', '3', '3', '6', '6', '5', '4', '5']}\n"
     ]
    }
   ],
   "source": [
    "from data_utils import select\n",
    "\n",
    "sycn_perf_to_be_copied: list[str] = [\"sync_perf\"]\n",
    "understanding_to_be_copied: list[str] = [\"understanding\"]\n",
    "columns_that_will_be_selected_sync_perf: dict[str, list[str]] = select(new_number_of_rows, sycn_perf_to_be_copied)\n",
    "columns_that_will_be_selected_understanding: dict[str, list[str]] = select(new_number_of_rows, understanding_to_be_copied)\n",
    "print(columns_that_will_be_selected_sync_perf)\n",
    "print(columns_that_will_be_selected_understanding)\n",
    "\n"
   ]
  },
  {
   "cell_type": "markdown",
   "metadata": {},
   "source": [
    "# Using the count function\n",
    "I will count the number of times each value was registered in the selected data points."
   ]
  },
  {
   "cell_type": "code",
   "execution_count": 90,
   "metadata": {},
   "outputs": [
    {
     "name": "stdout",
     "output_type": "stream",
     "text": [
      "{'2': 12, '3': 10, '5': 6, '4': 6, '6': 2, '1': 11, '7': 3}\n",
      "{'7': 6, '3': 7, '6': 14, '5': 16, '4': 5, '2': 2}\n"
     ]
    }
   ],
   "source": [
    "from data_utils import count\n",
    "\n",
    "sync_perf_counts: dict[str, int] = count(new_number_of_rows[\"sync_perf\"])\n",
    "understanding_counts: dict[str, int] = count(new_number_of_rows[\"understanding\"])\n",
    "\n",
    "print(sync_perf_counts)\n",
    "print(understanding_counts)\n",
    "\n",
    "\n"
   ]
  },
  {
   "cell_type": "code",
   "execution_count": 103,
   "metadata": {},
   "outputs": [
    {
     "name": "stdout",
     "output_type": "stream",
     "text": [
      "{'1': 11, '2': 12, '3': 10, '4': 6, '5': 6, '6': 2, '7': 3}\n",
      "{'2': 2, '3': 7, '4': 5, '5': 16, '6': 14, '7': 6}\n"
     ]
    }
   ],
   "source": [
    "from data_utils import sort\n",
    "\n",
    "print(sort(sync_perf_counts))\n",
    "print(sort(understanding_counts))"
   ]
  },
  {
   "cell_type": "markdown",
   "metadata": {},
   "source": [
    "## Conclusion\n",
    "\n",
    "In the following markdown cell, write a reflective conclusion given the analysis you performed and identify recommendations.\n",
    "\n",
    "If your analysis of the data supports your idea, state your recommendation for the change and summarize the data analysys results you found which support it. Additionally, describe any extensions or refinements to this idea which might be explored further. Finally, discuss the potential costs, trade-offs, or stakeholders who may be negatively impacted by this proposed change.\n",
    "\n",
    "If your analysis of the data is inconclusive, summarize why your data analysis results were inconclusive in the support of your idea. Additionally, describe what experimental idea implementation or additional data collection might help build more confidence in assessing your idea. Finally, discuss the potential costs, trade-offs, or stakeholders who may be negatively impacted by experimenting with your idea.\n",
    "\n",
    "Finally, if your analysis of the data does not support it, summarize your data analysis results and why it refutes your idea. Discuss the potential costs, trade-offs, or stakeholders who may be negatively impacted by this proposed change. If you disagree with the validity of the findings, describe why your idea still makes sense to implement and what alternative data would better support it. If you agree with the validity of the data analysis, describe what alternate ideas or extensions you would explore instead. "
   ]
  },
  {
   "cell_type": "markdown",
   "metadata": {},
   "source": [
    "### Part 5. Conclusion\n",
    "\n"
   ]
  }
 ],
 "metadata": {
  "interpreter": {
   "hash": "aee8b7b246df8f9039afb4144a1f6fd8d2ca17a180786b69acc140d282b71a49"
  },
  "kernelspec": {
   "display_name": "Python 3.10.2 64-bit",
   "language": "python",
   "name": "python3"
  },
  "language_info": {
   "codemirror_mode": {
    "name": "ipython",
    "version": 3
   },
   "file_extension": ".py",
   "mimetype": "text/x-python",
   "name": "python",
   "nbconvert_exporter": "python",
   "pygments_lexer": "ipython3",
   "version": "3.10.1"
  },
  "orig_nbformat": 4
 },
 "nbformat": 4,
 "nbformat_minor": 2
}
